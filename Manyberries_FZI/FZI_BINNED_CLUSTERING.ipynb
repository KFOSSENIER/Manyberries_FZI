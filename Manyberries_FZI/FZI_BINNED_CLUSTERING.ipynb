{
 "cells": [
  {
   "cell_type": "code",
   "execution_count": 1,
   "id": "compressed-arrangement",
   "metadata": {},
   "outputs": [
    {
     "name": "stdout",
     "output_type": "stream",
     "text": [
      "<class 'pandas.core.frame.DataFrame'>\n",
      "RangeIndex: 823 entries, 0 to 822\n",
      "Data columns (total 10 columns):\n",
      " #   Column         Non-Null Count  Dtype  \n",
      "---  ------         --------------  -----  \n",
      " 0   GR             823 non-null    float64\n",
      " 1   SP             823 non-null    float64\n",
      " 2   CALX           823 non-null    float64\n",
      " 3   RHOB           823 non-null    float64\n",
      " 4   DPSS           823 non-null    float64\n",
      " 5   NPSS           823 non-null    float64\n",
      " 6   ILD            823 non-null    float64\n",
      " 7   ILM            823 non-null    float64\n",
      " 8   SFL            823 non-null    float64\n",
      " 9   Binned_FZI_PS  823 non-null    int64  \n",
      "dtypes: float64(9), int64(1)\n",
      "memory usage: 64.4 KB\n"
     ]
    }
   ],
   "source": [
    "# 1. Load data and libraries\n",
    "import pandas as pd\n",
    "import numpy as np\n",
    "\n",
    "# Way one\n",
    "# from sklearn import model_selection\n",
    "# model_selection.train_test_split()\n",
    "\n",
    "from sklearn.model_selection import train_test_split\n",
    "df=pd.read_csv(\"FZI_binned_wrangle.csv\",encoding=\"UTF-8\",low_memory=False)\n",
    "df.info()\n",
    "\n",
    "\n",
    "\n"
   ]
  },
  {
   "cell_type": "code",
   "execution_count": 4,
   "id": "partial-fundamentals",
   "metadata": {},
   "outputs": [
    {
     "name": "stdout",
     "output_type": "stream",
     "text": [
      "['GR', 'SP', 'CALX', 'RHOB', 'DPSS', 'NPSS', 'ILD', 'ILM', 'SFL']\n"
     ]
    }
   ],
   "source": [
    "# 2. create input and target list\n",
    "\n",
    "inputfeatures=['GR', 'SP', 'CALX', 'RHOB', 'DPSS', 'NPSS', 'ILD', 'ILM', 'SFL']\n",
    "target = ['Binned_FZI_PS']\n",
    "print(inputfeatures)"
   ]
  },
  {
   "cell_type": "code",
   "execution_count": 5,
   "id": "removable-decision",
   "metadata": {},
   "outputs": [
    {
     "name": "stdout",
     "output_type": "stream",
     "text": [
      "     Binned_FZI_PS\n",
      "0                4\n",
      "1                2\n",
      "2                5\n",
      "3                2\n",
      "4                4\n",
      "..             ...\n",
      "818              2\n",
      "819              3\n",
      "820              3\n",
      "821              2\n",
      "822              3\n",
      "\n",
      "[823 rows x 1 columns]\n"
     ]
    }
   ],
   "source": [
    "\n",
    "X= df[inputfeatures]\n",
    "\n",
    "y_= df[target]\n",
    "print(y_)\n",
    "\n",
    "# from sklearn import preprocessing\n",
    "# le=preprocessing.LabelEncoder()\n",
    "# le.fit(y_)\n",
    "# y= le.transform(y_)\n",
    "# print(y)"
   ]
  },
  {
   "cell_type": "code",
   "execution_count": 6,
   "id": "applied-trademark",
   "metadata": {},
   "outputs": [
    {
     "data": {
      "text/plain": [
       "KMeans(n_clusters=3, random_state=1)"
      ]
     },
     "execution_count": 6,
     "metadata": {},
     "output_type": "execute_result"
    }
   ],
   "source": [
    "from sklearn.cluster import KMeans\n",
    "km_um= KMeans(n_clusters=3, random_state=1)\n",
    "km_um.fit(X)\n",
    "\n",
    "\n"
   ]
  },
  {
   "cell_type": "code",
   "execution_count": 7,
   "id": "close-hopkins",
   "metadata": {},
   "outputs": [],
   "source": [
    "from sklearn.cluster import DBSCAN\n",
    "dbsc= DBSCAN(eps=0.5, min_samples=2)\n",
    "dbsc.fit(X)\n",
    "c_labels2=dbsc.labels_\n",
    "\n",
    "\n"
   ]
  },
  {
   "cell_type": "code",
   "execution_count": 8,
   "id": "stopped-camping",
   "metadata": {},
   "outputs": [
    {
     "name": "stdout",
     "output_type": "stream",
     "text": [
      "[ 0  1  2  3  4  5  6  7  8  9 10 11 12 13 14 15  0  1  2  3  4  5  6  7\n",
      "  8  9 10 11 12 13 14 15 -1 -1 -1 -1 -1 -1 -1 -1 -1 -1 -1 -1 -1 -1 -1 -1\n",
      " -1 -1 -1 -1 -1 -1 -1 -1 -1 -1 -1 -1 -1 -1 -1 -1 -1 -1 -1 -1 -1 -1 -1 -1\n",
      " -1 -1 -1 -1 -1 -1 -1 -1 -1 -1 -1 -1 -1 -1 -1 -1 -1 -1 -1 -1 -1 -1 -1 -1\n",
      " -1 -1 -1 -1 -1 -1 -1 -1 -1 -1 -1 -1 -1 -1 -1 -1 -1 -1 -1 -1 -1 -1 -1 -1\n",
      " -1 -1 -1 -1 -1 -1 -1 -1 -1 -1 -1 -1 -1 -1 -1 -1 -1 -1 -1 -1 -1 -1 -1 -1\n",
      " -1 -1 -1 -1 -1 -1 -1 -1 -1 -1 -1 -1 -1 -1 -1 -1 -1 -1 -1 -1 -1 -1 -1 -1\n",
      " -1 -1 -1 -1 -1 -1 -1 -1 -1 -1 -1 -1 -1 -1 -1 -1 -1 -1 -1 -1 -1 -1 -1 -1\n",
      " -1 -1 -1 -1 -1 -1 -1 -1 -1 -1 -1 -1 -1 -1 -1 -1 -1 -1 -1 -1 -1 -1 -1 -1\n",
      " -1 -1 -1 -1 -1 -1 -1 -1 -1 -1 -1 -1 -1 -1 -1 -1 -1 -1 -1 -1 -1 -1 -1 -1\n",
      " -1 -1 -1 -1 -1 -1 -1 -1 -1 -1 -1 -1 -1 -1 -1 -1 -1 -1 -1 -1 -1 -1 -1 -1\n",
      " -1 -1 -1 -1 -1 -1 -1 -1 -1 -1 -1 -1 -1 -1 -1 -1 -1 -1 -1 -1 -1 -1 -1 -1\n",
      " -1 -1 -1 -1 -1 -1 -1 -1 -1 -1 -1 -1 -1 -1 -1 -1 -1 -1 -1 -1 -1 -1 -1 -1\n",
      " -1 -1 -1 -1 -1 -1 -1 -1 -1 -1 -1 -1 -1 -1 -1 -1 -1 -1 -1 -1 -1 -1 -1 -1\n",
      " -1 -1 -1 -1 -1 -1 -1 -1 -1 -1 -1 -1 -1 -1 -1 -1 -1 -1 -1 -1 -1 -1 -1 -1\n",
      " -1 -1 -1 -1 -1 -1 -1 -1 -1 -1 -1 -1 -1 -1 -1 -1 -1 -1 -1 -1 -1 -1 -1 -1\n",
      " -1 -1 -1 -1 -1 -1 -1 -1 -1 -1 -1 -1 -1 -1 -1 -1 -1 -1 -1 -1 -1 -1 -1 -1\n",
      " -1 -1 -1 -1 -1 -1 -1 -1 -1 -1 -1 -1 -1 -1 -1 -1 -1 -1 -1 -1 -1 -1 -1 -1\n",
      " -1 -1 -1 -1 -1 -1 -1 -1 -1 -1 -1 -1 -1 -1 -1 -1 -1 -1 -1 -1 -1 -1 -1 -1\n",
      " -1 -1 -1 -1 -1 -1 -1 -1 -1 -1 -1 -1 -1 -1 -1 -1 -1 -1 -1 -1 -1 -1 -1 -1\n",
      " -1 -1 -1 -1 -1 -1 -1 -1 -1 -1 -1 -1 -1 -1 -1 -1 -1 -1 -1 -1 -1 -1 -1 -1\n",
      " -1 -1 -1 -1 -1 -1 -1 -1 -1 -1 -1 -1 -1 -1 -1 -1 -1 -1 -1 -1 -1 -1 -1 -1\n",
      " -1 -1 -1 -1 -1 -1 -1 -1 -1 -1 -1 -1 -1 -1 -1 -1 -1 -1 -1 -1 -1 -1 -1 -1\n",
      " -1 -1 -1 -1 -1 -1 -1 -1 -1 -1 -1 -1 -1 -1 -1 -1 -1 -1 -1 -1 -1 -1 -1 -1\n",
      " -1 -1 -1 -1 -1 -1 -1 -1 -1 -1 -1 -1 -1 -1 -1 -1 -1 -1 -1 -1 -1 -1 -1 -1\n",
      " -1 -1 -1 -1 -1 -1 -1 -1 -1 -1 -1 -1 -1 -1 -1 -1 -1 -1 -1 -1 -1 -1 -1 -1\n",
      " -1 -1 -1 -1 -1 -1 -1 -1 -1 -1 -1 -1 -1 -1 -1 -1 -1 -1 -1 -1 -1 -1 -1 -1\n",
      " -1 -1 -1 -1 -1 -1 -1 -1 -1 -1 -1 -1 -1 -1 -1 -1 -1 -1 -1 -1 -1 -1 -1 -1\n",
      " -1 -1 -1 -1 -1 -1 -1 -1 -1 -1 -1 -1 -1 -1 -1 -1 -1 -1 -1 -1 -1 -1 -1 -1\n",
      " -1 -1 -1 -1 -1 -1 -1 -1 -1 -1 -1 -1 -1 -1 -1 -1 -1 -1 -1 -1 -1 -1 -1 -1\n",
      " -1 -1 -1 -1 -1 -1 -1 -1 -1 -1 -1 -1 -1 -1 -1 -1 -1 -1 -1 -1 -1 -1 -1 -1\n",
      " -1 -1 -1 -1 -1 -1 -1 -1 -1 -1 -1 -1 -1 -1 -1 -1 -1 -1 -1 -1 -1 -1 -1 -1\n",
      " -1 -1 -1 -1 -1 -1 -1 -1 -1 -1 -1 -1 -1 -1 -1 -1 -1 -1 -1 -1 -1 -1 -1 -1\n",
      " -1 -1 -1 -1 -1 -1 -1 -1 -1 -1 -1 -1 -1 -1 -1 -1 -1 -1 -1 -1 -1 -1 -1 -1\n",
      " -1 -1 -1 -1 -1 -1 -1]\n"
     ]
    }
   ],
   "source": [
    "c_labels2=dbsc.labels_\n",
    "print(c_labels2)"
   ]
  },
  {
   "cell_type": "code",
   "execution_count": 9,
   "id": "interstate-partition",
   "metadata": {},
   "outputs": [
    {
     "name": "stdout",
     "output_type": "stream",
     "text": [
      "[1 1 0 0 1 2 2 2 2 2 2 2 2 1 1 0 1 1 0 0 1 2 2 2 2 2 2 2 2 1 1 0 0 0 0 0 0\n",
      " 0 0 0 0 0 0 0 0 0 0 0 0 0 0 0 0 0 0 0 0 0 0 1 1 1 0 1 1 1 0 0 1 1 1 0 0 0\n",
      " 0 0 0 0 0 0 0 0 0 0 0 0 0 0 0 0 0 1 1 1 0 0 2 2 2 1 0 0 0 0 0 0 2 2 1 1 2\n",
      " 1 0 0 2 2 2 1 1 0 0 0 1 1 0 0 0 1 1 1 1 0 0 0 1 2 2 2 1 1 1 1 1 2 2 1 1 1\n",
      " 1 1 0 0 0 1 1 1 0 0 0 0 0 1 1 1 0 0 0 0 0 0 1 1 1 1 2 2 2 2 1 1 1 1 1 0 2\n",
      " 2 2 2 1 1 0 1 1 1 1 0 0 0 1 1 1 0 0 0 0 1 1 1 1 1 2 2 2 2 2 2 2 2 2 2 2 1\n",
      " 1 1 1 1 1 1 1 1 1 1 1 1 1 1 1 1 1 1 1 1 1 2 2 2 1 1 1 1 1 1 1 1 1 1 1 1 1\n",
      " 1 2 2 2 2 1 1 1 1 1 1 1 1 1 1 1 1 0 2 1 1 1 1 1 1 0 1 1 1 1 1 1 1 1 1 1 1\n",
      " 1 1 1 1 1 0 0 0 2 2 2 2 2 2 2 1 1 1 1 0 0 0 0 2 2 2 2 2 2 2 2 2 2 2 2 2 2\n",
      " 2 2 2 2 2 0 0 0 0 0 0 0 0 0 0 0 1 0 1 1 1 1 1 1 1 1 1 1 1 1 1 2 2 2 1 1 1\n",
      " 0 0 0 0 0 1 2 1 1 1 2 1 1 1 1 1 0 2 0 1 1 1 1 1 2 2 1 2 2 2 2 2 2 2 2 2 2\n",
      " 2 2 2 2 2 2 1 1 1 1 2 2 2 2 2 2 2 1 2 2 1 1 1 1 1 1 1 0 1 1 1 1 1 1 1 1 1\n",
      " 1 1 1 1 1 1 0 0 0 0 0 0 0 0 0 0 0 0 1 1 1 1 1 1 1 1 0 0 0 0 0 0 0 0 0 1 1\n",
      " 2 2 1 0 1 1 1 0 0 1 1 1 1 1 1 1 1 1 1 1 2 2 1 0 0 0 0 0 1 2 0 0 0 0 1 2 0\n",
      " 0 0 0 0 0 0 0 0 0 0 1 1 1 1 1 1 1 1 1 1 1 1 1 1 1 1 1 1 1 1 0 0 0 0 0 0 0\n",
      " 0 0 2 2 1 2 2 2 2 2 2 2 2 2 2 2 2 0 0 0 0 0 0 0 0 0 0 1 1 1 1 1 1 1 1 1 1\n",
      " 1 1 1 1 1 1 1 1 1 1 1 0 0 0 0 1 1 2 2 2 2 2 2 2 2 2 2 1 0 1 1 1 1 2 1 1 0\n",
      " 0 0 0 0 1 1 2 1 1 1 1 1 0 0 0 0 0 0 1 0 0 0 0 0 0 0 0 0 1 1 2 2 2 2 2 2 2\n",
      " 2 2 2 2 2 2 2 2 2 2 0 0 0 0 0 0 0 0 1 0 0 1 1 1 1 1 0 0 0 0 1 1 2 2 2 2 1\n",
      " 1 0 0 2 2 2 2 2 1 0 0 1 2 2 2 2 1 0 1 2 0 0 1 1 1 1 1 1 1 1 1 2 0 0 1 1 1\n",
      " 1 0 0 1 1 0 0 0 1 1 1 0 0 0 1 1 1 1 0 0 0 0 1 1 0 1 1 0 0 1 1 1 1 1 1 1 1\n",
      " 1 1 2 2 1 1 1 1 1 1 2 2 2 2 1 1 1 1 1 1 1 1 1 1 1 1 0 0 1 1 1 1 1 1 1 1 1\n",
      " 2 2 2 1 1 1 1 1 1]\n"
     ]
    }
   ],
   "source": [
    "c_labels=km_um.labels_\n",
    "print(c_labels)"
   ]
  },
  {
   "cell_type": "code",
   "execution_count": 10,
   "id": "patent-consequence",
   "metadata": {},
   "outputs": [
    {
     "name": "stdout",
     "output_type": "stream",
     "text": [
      "     Binned_FZI_PS\n",
      "0                4\n",
      "1                2\n",
      "2                5\n",
      "3                2\n",
      "4                4\n",
      "..             ...\n",
      "818              2\n",
      "819              3\n",
      "820              3\n",
      "821              2\n",
      "822              3\n",
      "\n",
      "[823 rows x 1 columns]\n"
     ]
    }
   ],
   "source": [
    "print(y_)"
   ]
  },
  {
   "cell_type": "code",
   "execution_count": 12,
   "id": "amber-latino",
   "metadata": {},
   "outputs": [
    {
     "name": "stdout",
     "output_type": "stream",
     "text": [
      "     __CLUSTER_OUTPUT\n",
      "0                   1\n",
      "1                   1\n",
      "2                   0\n",
      "3                   0\n",
      "4                   1\n",
      "..                ...\n",
      "818                 1\n",
      "819                 1\n",
      "820                 1\n",
      "821                 1\n",
      "822                 1\n",
      "\n",
      "[823 rows x 1 columns]\n"
     ]
    }
   ],
   "source": [
    "df_lbl=pd.DataFrame(c_labels,columns=[\"__CLUSTER_OUTPUT\"])\n",
    "print(df_lbl)\n",
    "newdb= pd.concat([X,df_lbl],axis=1)"
   ]
  },
  {
   "cell_type": "code",
   "execution_count": 13,
   "id": "dimensional-reason",
   "metadata": {},
   "outputs": [
    {
     "name": "stdout",
     "output_type": "stream",
     "text": [
      "        GR     SP    CALX     RHOB  DPSS  NPSS    ILD    ILM    SFL  \\\n",
      "0    46.32 -39.50  212.37  2378.71  0.17  0.31   4.24   4.24   5.89   \n",
      "1    46.90 -42.00  212.85  2378.71  0.17  0.31   4.61   4.65   6.44   \n",
      "2    55.67 -48.60  210.07  2405.00  0.14  0.36   6.26   6.38   7.16   \n",
      "3    56.26 -50.40  206.31  2425.50  0.14  0.35   6.59   6.84   7.20   \n",
      "4    56.96 -67.49  204.46  2312.50  0.23  0.25  14.71  19.37  19.28   \n",
      "..     ...    ...     ...      ...   ...   ...    ...    ...    ...   \n",
      "818  60.29 -26.40  193.63  2309.50  0.21  0.29  17.33  16.25  16.63   \n",
      "819  63.97 -26.60  193.14  2298.50  0.21  0.28  16.47  16.02  16.40   \n",
      "820  60.00 -26.10  192.65  2317.50  0.20  0.27  16.25  15.44  15.80   \n",
      "821  59.11 -25.80  192.89  2322.00  0.20  0.27  16.10  15.09  15.51   \n",
      "822  63.83 -24.79  195.38  2336.50  0.19  0.27  15.36  14.14  14.53   \n",
      "\n",
      "     __CLUSTER_OUTPUT  \n",
      "0                   1  \n",
      "1                   1  \n",
      "2                   0  \n",
      "3                   0  \n",
      "4                   1  \n",
      "..                ...  \n",
      "818                 1  \n",
      "819                 1  \n",
      "820                 1  \n",
      "821                 1  \n",
      "822                 1  \n",
      "\n",
      "[823 rows x 10 columns]\n"
     ]
    }
   ],
   "source": [
    "print(newdb)"
   ]
  },
  {
   "cell_type": "code",
   "execution_count": 14,
   "id": "forced-portfolio",
   "metadata": {},
   "outputs": [
    {
     "data": {
      "text/plain": [
       "0.2830589456930877"
      ]
     },
     "execution_count": 14,
     "metadata": {},
     "output_type": "execute_result"
    }
   ],
   "source": [
    "from sklearn import metrics\n",
    "\n",
    "metrics.silhouette_score(X,c_labels, metric=\"euclidean\")"
   ]
  },
  {
   "cell_type": "code",
   "execution_count": 16,
   "id": "differential-suicide",
   "metadata": {},
   "outputs": [
    {
     "name": "stdout",
     "output_type": "stream",
     "text": [
      "     Binned_FZI_PS\n",
      "0                4\n",
      "1                2\n",
      "2                5\n",
      "3                2\n",
      "4                4\n",
      "..             ...\n",
      "818              2\n",
      "819              3\n",
      "820              3\n",
      "821              2\n",
      "822              3\n",
      "\n",
      "[823 rows x 1 columns]\n",
      "[1 1 0 0 1 2 2 2 2 2 2 2 2 1 1 0 1 1 0 0 1 2 2 2 2 2 2 2 2 1 1 0 0 0 0 0 0\n",
      " 0 0 0 0 0 0 0 0 0 0 0 0 0 0 0 0 0 0 0 0 0 0 1 1 1 0 1 1 1 0 0 1 1 1 0 0 0\n",
      " 0 0 0 0 0 0 0 0 0 0 0 0 0 0 0 0 0 1 1 1 0 0 2 2 2 1 0 0 0 0 0 0 2 2 1 1 2\n",
      " 1 0 0 2 2 2 1 1 0 0 0 1 1 0 0 0 1 1 1 1 0 0 0 1 2 2 2 1 1 1 1 1 2 2 1 1 1\n",
      " 1 1 0 0 0 1 1 1 0 0 0 0 0 1 1 1 0 0 0 0 0 0 1 1 1 1 2 2 2 2 1 1 1 1 1 0 2\n",
      " 2 2 2 1 1 0 1 1 1 1 0 0 0 1 1 1 0 0 0 0 1 1 1 1 1 2 2 2 2 2 2 2 2 2 2 2 1\n",
      " 1 1 1 1 1 1 1 1 1 1 1 1 1 1 1 1 1 1 1 1 1 2 2 2 1 1 1 1 1 1 1 1 1 1 1 1 1\n",
      " 1 2 2 2 2 1 1 1 1 1 1 1 1 1 1 1 1 0 2 1 1 1 1 1 1 0 1 1 1 1 1 1 1 1 1 1 1\n",
      " 1 1 1 1 1 0 0 0 2 2 2 2 2 2 2 1 1 1 1 0 0 0 0 2 2 2 2 2 2 2 2 2 2 2 2 2 2\n",
      " 2 2 2 2 2 0 0 0 0 0 0 0 0 0 0 0 1 0 1 1 1 1 1 1 1 1 1 1 1 1 1 2 2 2 1 1 1\n",
      " 0 0 0 0 0 1 2 1 1 1 2 1 1 1 1 1 0 2 0 1 1 1 1 1 2 2 1 2 2 2 2 2 2 2 2 2 2\n",
      " 2 2 2 2 2 2 1 1 1 1 2 2 2 2 2 2 2 1 2 2 1 1 1 1 1 1 1 0 1 1 1 1 1 1 1 1 1\n",
      " 1 1 1 1 1 1 0 0 0 0 0 0 0 0 0 0 0 0 1 1 1 1 1 1 1 1 0 0 0 0 0 0 0 0 0 1 1\n",
      " 2 2 1 0 1 1 1 0 0 1 1 1 1 1 1 1 1 1 1 1 2 2 1 0 0 0 0 0 1 2 0 0 0 0 1 2 0\n",
      " 0 0 0 0 0 0 0 0 0 0 1 1 1 1 1 1 1 1 1 1 1 1 1 1 1 1 1 1 1 1 0 0 0 0 0 0 0\n",
      " 0 0 2 2 1 2 2 2 2 2 2 2 2 2 2 2 2 0 0 0 0 0 0 0 0 0 0 1 1 1 1 1 1 1 1 1 1\n",
      " 1 1 1 1 1 1 1 1 1 1 1 0 0 0 0 1 1 2 2 2 2 2 2 2 2 2 2 1 0 1 1 1 1 2 1 1 0\n",
      " 0 0 0 0 1 1 2 1 1 1 1 1 0 0 0 0 0 0 1 0 0 0 0 0 0 0 0 0 1 1 2 2 2 2 2 2 2\n",
      " 2 2 2 2 2 2 2 2 2 2 0 0 0 0 0 0 0 0 1 0 0 1 1 1 1 1 0 0 0 0 1 1 2 2 2 2 1\n",
      " 1 0 0 2 2 2 2 2 1 0 0 1 2 2 2 2 1 0 1 2 0 0 1 1 1 1 1 1 1 1 1 2 0 0 1 1 1\n",
      " 1 0 0 1 1 0 0 0 1 1 1 0 0 0 1 1 1 1 0 0 0 0 1 1 0 1 1 0 0 1 1 1 1 1 1 1 1\n",
      " 1 1 2 2 1 1 1 1 1 1 2 2 2 2 1 1 1 1 1 1 1 1 1 1 1 1 0 0 1 1 1 1 1 1 1 1 1\n",
      " 2 2 2 1 1 1 1 1 1]\n"
     ]
    }
   ],
   "source": [
    "print(y_)\n",
    "print(c_labels)"
   ]
  },
  {
   "cell_type": "code",
   "execution_count": 17,
   "id": "growing-titanium",
   "metadata": {},
   "outputs": [
    {
     "name": "stdout",
     "output_type": "stream",
     "text": [
      "1.0\n",
      "1.0\n",
      "0.408248290463863\n"
     ]
    }
   ],
   "source": [
    "from sklearn.metrics.cluster import fowlkes_mallows_score\n",
    "\n",
    "scr1=fowlkes_mallows_score([0, 0, 1, 1], [0, 0, 1, 1])\n",
    "print(scr1)\n",
    "\n",
    "\n",
    "scr2=fowlkes_mallows_score([0, 0, 1, 0], [1, 1, 0, 1])\n",
    "print(scr2)\n",
    "\n",
    "scr2=fowlkes_mallows_score([0, 0, 1, 1], [1, 0, 0, 0])\n",
    "print(scr2)"
   ]
  },
  {
   "cell_type": "code",
   "execution_count": 19,
   "id": "three-registration",
   "metadata": {},
   "outputs": [
    {
     "ename": "ValueError",
     "evalue": "labels_true must be 1D: shape is (823, 1)",
     "output_type": "error",
     "traceback": [
      "\u001b[1;31m---------------------------------------------------------------------------\u001b[0m",
      "\u001b[1;31mValueError\u001b[0m                                Traceback (most recent call last)",
      "\u001b[1;32m<ipython-input-19-139958f146bb>\u001b[0m in \u001b[0;36m<module>\u001b[1;34m\u001b[0m\n\u001b[1;32m----> 1\u001b[1;33m \u001b[0maccuracy\u001b[0m\u001b[1;33m=\u001b[0m\u001b[0mfowlkes_mallows_score\u001b[0m\u001b[1;33m(\u001b[0m\u001b[0my_\u001b[0m\u001b[1;33m,\u001b[0m\u001b[0mc_labels\u001b[0m\u001b[1;33m)\u001b[0m\u001b[1;33m\u001b[0m\u001b[1;33m\u001b[0m\u001b[0m\n\u001b[0m\u001b[0;32m      2\u001b[0m \u001b[1;33m\u001b[0m\u001b[0m\n\u001b[0;32m      3\u001b[0m \u001b[0mprint\u001b[0m\u001b[1;33m(\u001b[0m\u001b[0maccuracy\u001b[0m\u001b[1;33m)\u001b[0m\u001b[1;33m\u001b[0m\u001b[1;33m\u001b[0m\u001b[0m\n",
      "\u001b[1;32m~\\anaconda3\\envs\\fosse_py3.8\\lib\\site-packages\\sklearn\\utils\\validation.py\u001b[0m in \u001b[0;36minner_f\u001b[1;34m(*args, **kwargs)\u001b[0m\n\u001b[0;32m     70\u001b[0m                           FutureWarning)\n\u001b[0;32m     71\u001b[0m         \u001b[0mkwargs\u001b[0m\u001b[1;33m.\u001b[0m\u001b[0mupdate\u001b[0m\u001b[1;33m(\u001b[0m\u001b[1;33m{\u001b[0m\u001b[0mk\u001b[0m\u001b[1;33m:\u001b[0m \u001b[0marg\u001b[0m \u001b[1;32mfor\u001b[0m \u001b[0mk\u001b[0m\u001b[1;33m,\u001b[0m \u001b[0marg\u001b[0m \u001b[1;32min\u001b[0m \u001b[0mzip\u001b[0m\u001b[1;33m(\u001b[0m\u001b[0msig\u001b[0m\u001b[1;33m.\u001b[0m\u001b[0mparameters\u001b[0m\u001b[1;33m,\u001b[0m \u001b[0margs\u001b[0m\u001b[1;33m)\u001b[0m\u001b[1;33m}\u001b[0m\u001b[1;33m)\u001b[0m\u001b[1;33m\u001b[0m\u001b[1;33m\u001b[0m\u001b[0m\n\u001b[1;32m---> 72\u001b[1;33m         \u001b[1;32mreturn\u001b[0m \u001b[0mf\u001b[0m\u001b[1;33m(\u001b[0m\u001b[1;33m**\u001b[0m\u001b[0mkwargs\u001b[0m\u001b[1;33m)\u001b[0m\u001b[1;33m\u001b[0m\u001b[1;33m\u001b[0m\u001b[0m\n\u001b[0m\u001b[0;32m     73\u001b[0m     \u001b[1;32mreturn\u001b[0m \u001b[0minner_f\u001b[0m\u001b[1;33m\u001b[0m\u001b[1;33m\u001b[0m\u001b[0m\n\u001b[0;32m     74\u001b[0m \u001b[1;33m\u001b[0m\u001b[0m\n",
      "\u001b[1;32m~\\anaconda3\\envs\\fosse_py3.8\\lib\\site-packages\\sklearn\\metrics\\cluster\\_supervised.py\u001b[0m in \u001b[0;36mfowlkes_mallows_score\u001b[1;34m(labels_true, labels_pred, sparse)\u001b[0m\n\u001b[0;32m    946\u001b[0m            \u001b[1;33m<\u001b[0m\u001b[0mhttps\u001b[0m\u001b[1;33m:\u001b[0m\u001b[1;33m//\u001b[0m\u001b[0men\u001b[0m\u001b[1;33m.\u001b[0m\u001b[0mwikipedia\u001b[0m\u001b[1;33m.\u001b[0m\u001b[0morg\u001b[0m\u001b[1;33m/\u001b[0m\u001b[0mwiki\u001b[0m\u001b[1;33m/\u001b[0m\u001b[0mFowlkes\u001b[0m\u001b[1;33m-\u001b[0m\u001b[0mMallows_index\u001b[0m\u001b[1;33m>\u001b[0m\u001b[0;31m`\u001b[0m\u001b[0m_\u001b[0m\u001b[1;33m\u001b[0m\u001b[1;33m\u001b[0m\u001b[0m\n\u001b[0;32m    947\u001b[0m     \"\"\"\n\u001b[1;32m--> 948\u001b[1;33m     \u001b[0mlabels_true\u001b[0m\u001b[1;33m,\u001b[0m \u001b[0mlabels_pred\u001b[0m \u001b[1;33m=\u001b[0m \u001b[0mcheck_clusterings\u001b[0m\u001b[1;33m(\u001b[0m\u001b[0mlabels_true\u001b[0m\u001b[1;33m,\u001b[0m \u001b[0mlabels_pred\u001b[0m\u001b[1;33m)\u001b[0m\u001b[1;33m\u001b[0m\u001b[1;33m\u001b[0m\u001b[0m\n\u001b[0m\u001b[0;32m    949\u001b[0m     \u001b[0mn_samples\u001b[0m\u001b[1;33m,\u001b[0m \u001b[1;33m=\u001b[0m \u001b[0mlabels_true\u001b[0m\u001b[1;33m.\u001b[0m\u001b[0mshape\u001b[0m\u001b[1;33m\u001b[0m\u001b[1;33m\u001b[0m\u001b[0m\n\u001b[0;32m    950\u001b[0m \u001b[1;33m\u001b[0m\u001b[0m\n",
      "\u001b[1;32m~\\anaconda3\\envs\\fosse_py3.8\\lib\\site-packages\\sklearn\\metrics\\cluster\\_supervised.py\u001b[0m in \u001b[0;36mcheck_clusterings\u001b[1;34m(labels_true, labels_pred)\u001b[0m\n\u001b[0;32m     54\u001b[0m     \u001b[1;31m# input checks\u001b[0m\u001b[1;33m\u001b[0m\u001b[1;33m\u001b[0m\u001b[1;33m\u001b[0m\u001b[0m\n\u001b[0;32m     55\u001b[0m     \u001b[1;32mif\u001b[0m \u001b[0mlabels_true\u001b[0m\u001b[1;33m.\u001b[0m\u001b[0mndim\u001b[0m \u001b[1;33m!=\u001b[0m \u001b[1;36m1\u001b[0m\u001b[1;33m:\u001b[0m\u001b[1;33m\u001b[0m\u001b[1;33m\u001b[0m\u001b[0m\n\u001b[1;32m---> 56\u001b[1;33m         raise ValueError(\n\u001b[0m\u001b[0;32m     57\u001b[0m             \"labels_true must be 1D: shape is %r\" % (labels_true.shape,))\n\u001b[0;32m     58\u001b[0m     \u001b[1;32mif\u001b[0m \u001b[0mlabels_pred\u001b[0m\u001b[1;33m.\u001b[0m\u001b[0mndim\u001b[0m \u001b[1;33m!=\u001b[0m \u001b[1;36m1\u001b[0m\u001b[1;33m:\u001b[0m\u001b[1;33m\u001b[0m\u001b[1;33m\u001b[0m\u001b[0m\n",
      "\u001b[1;31mValueError\u001b[0m: labels_true must be 1D: shape is (823, 1)"
     ]
    }
   ],
   "source": [
    "accuracy=fowlkes_mallows_score(y_,c_labels)\n",
    "\n",
    "print(accuracy)\n"
   ]
  },
  {
   "cell_type": "code",
   "execution_count": 21,
   "id": "literary-environment",
   "metadata": {},
   "outputs": [
    {
     "name": "stdout",
     "output_type": "stream",
     "text": [
      "0.07654921020656136\n"
     ]
    }
   ],
   "source": [
    "from sklearn.metrics import accuracy_score\n",
    "\n",
    "acs=accuracy_score(y_,c_labels)\n",
    "print(acs)"
   ]
  },
  {
   "cell_type": "code",
   "execution_count": 23,
   "id": "enhanced-dictionary",
   "metadata": {},
   "outputs": [
    {
     "name": "stdout",
     "output_type": "stream",
     "text": [
      "[1 1 0 0 1 2 2 2 2 2 2 2 2 1 1 0 1 1 0 0 1 2 2 2 2 2 2 2 2 1 1 0 0 0 0 0 0\n",
      " 0 0 0 0 0 0 0 0 0 0 0 0 0 0 0 0 0 0 0 0 0 0 1 1 1 0 1 1 1 0 0 1 1 1 0 0 0\n",
      " 0 0 0 0 0 0 0 0 0 0 0 0 0 0 0 0 0 1 1 1 0 0 2 2 2 1 0 0 0 0 0 0 2 2 1 1 2\n",
      " 1 0 0 2 2 2 1 1 0 0 0 1 1 0 0 0 1 1 1 1 0 0 0 1 2 2 2 1 1 1 1 1 2 2 1 1 1\n",
      " 1 1 0 0 0 1 1 1 0 0 0 0 0 1 1 1 0 0 0 0 0 0 1 1 1 1 2 2 2 2 1 1 1 1 1 0 2\n",
      " 2 2 2 1 1 0 1 1 1 1 0 0 0 1 1 1 0 0 0 0 1 1 1 1 1 2 2 2 2 2 2 2 2 2 2 2 1\n",
      " 1 1 1 1 1 1 1 1 1 1 1 1 1 1 1 1 1 1 1 1 1 2 2 2 1 1 1 1 1 1 1 1 1 1 1 1 1\n",
      " 1 2 2 2 2 1 1 1 1 1 1 1 1 1 1 1 1 0 2 1 1 1 1 1 1 0 1 1 1 1 1 1 1 1 1 1 1\n",
      " 1 1 1 1 1 0 0 0 2 2 2 2 2 2 2 1 1 1 1 0 0 0 0 2 2 2 2 2 2 2 2 2 2 2 2 2 2\n",
      " 2 2 2 2 2 0 0 0 0 0 0 0 0 0 0 0 1 0 1 1 1 1 1 1 1 1 1 1 1 1 1 2 2 2 1 1 1\n",
      " 0 0 0 0 0 1 2 1 1 1 2 1 1 1 1 1 0 2 0 1 1 1 1 1 2 2 1 2 2 2 2 2 2 2 2 2 2\n",
      " 2 2 2 2 2 2 1 1 1 1 2 2 2 2 2 2 2 1 2 2 1 1 1 1 1 1 1 0 1 1 1 1 1 1 1 1 1\n",
      " 1 1 1 1 1 1 0 0 0 0 0 0 0 0 0 0 0 0 1 1 1 1 1 1 1 1 0 0 0 0 0 0 0 0 0 1 1\n",
      " 2 2 1 0 1 1 1 0 0 1 1 1 1 1 1 1 1 1 1 1 2 2 1 0 0 0 0 0 1 2 0 0 0 0 1 2 0\n",
      " 0 0 0 0 0 0 0 0 0 0 1 1 1 1 1 1 1 1 1 1 1 1 1 1 1 1 1 1 1 1 0 0 0 0 0 0 0\n",
      " 0 0 2 2 1 2 2 2 2 2 2 2 2 2 2 2 2 0 0 0 0 0 0 0 0 0 0 1 1 1 1 1 1 1 1 1 1\n",
      " 1 1 1 1 1 1 1 1 1 1 1 0 0 0 0 1 1 2 2 2 2 2 2 2 2 2 2 1 0 1 1 1 1 2 1 1 0\n",
      " 0 0 0 0 1 1 2 1 1 1 1 1 0 0 0 0 0 0 1 0 0 0 0 0 0 0 0 0 1 1 2 2 2 2 2 2 2\n",
      " 2 2 2 2 2 2 2 2 2 2 0 0 0 0 0 0 0 0 1 0 0 1 1 1 1 1 0 0 0 0 1 1 2 2 2 2 1\n",
      " 1 0 0 2 2 2 2 2 1 0 0 1 2 2 2 2 1 0 1 2 0 0 1 1 1 1 1 1 1 1 1 2 0 0 1 1 1\n",
      " 1 0 0 1 1 0 0 0 1 1 1 0 0 0 1 1 1 1 0 0 0 0 1 1 0 1 1 0 0 1 1 1 1 1 1 1 1\n",
      " 1 1 2 2 1 1 1 1 1 1 2 2 2 2 1 1 1 1 1 1 1 1 1 1 1 1 0 0 1 1 1 1 1 1 1 1 1\n",
      " 2 2 2 1 1 1 1 1 1]\n",
      "[0 1 2]\n"
     ]
    }
   ],
   "source": [
    "import matplotlib.pyplot as plt\n",
    "print(c_labels)\n",
    "\n",
    "import numpy as np\n",
    "u_lbl= np.unique(c_labels)\n",
    "print(u_lbl)\n",
    "\n",
    "\n"
   ]
  },
  {
   "cell_type": "code",
   "execution_count": 27,
   "id": "occupied-agency",
   "metadata": {},
   "outputs": [
    {
     "name": "stdout",
     "output_type": "stream",
     "text": [
      "['GR', 'SP', 'CALX', 'RHOB', 'DPSS', 'NPSS', 'ILD', 'ILM', 'SFL']\n",
      "[[ 6.31384706e+01 -3.89528235e+01  2.04890569e+02  2.44303482e+03\n",
      "   1.27294118e-01  2.84862745e-01  1.37812157e+01  1.43783922e+01\n",
      "   1.67496863e+01]\n",
      " [ 5.98507388e+01 -2.32913193e+01  2.05236214e+02  2.35004528e+03\n",
      "   1.82005277e-01  2.86622691e-01  1.47230607e+01  1.46850132e+01\n",
      "   1.73971768e+01]\n",
      " [ 4.07312698e+01 -5.81891534e+01  1.99387169e+02  2.25508217e+03\n",
      "   2.37407407e-01  2.78412698e-01  2.97294180e+01  3.30736508e+01\n",
      "   4.81234392e+01]]\n"
     ]
    },
    {
     "data": {
      "image/png": "[encoded data removed]",
      "text/plain": [
       "<Figure size 432x288 with 1 Axes>"
      ]
     },
     "metadata": {
      "needs_background": "light"
     },
     "output_type": "display_data"
    }
   ],
   "source": [
    "inputfeatures=['GR', 'SP', 'CALX', 'RHOB', 'DPSS', 'NPSS', 'ILD', 'ILM', 'SFL']\n",
    "print(inputfeatures)\n",
    "\n",
    "my_cent=km_um.cluster_centers_\n",
    "print(my_cent)\n",
    "\n",
    "for i in u_lbl:\n",
    "    plt.scatter(X.iloc[c_labels==i,0],X.iloc[c_labels==i,1], label=i)\n",
    "\n",
    "plt.scatter(my_cent[:,0],my_cent[:,1],s=80, color=\"r\")\n",
    "plt.title(\"GR vs SP\")\n",
    "plt.legend()\n",
    "plt.show()"
   ]
  },
  {
   "cell_type": "code",
   "execution_count": 28,
   "id": "alike-soccer",
   "metadata": {},
   "outputs": [
    {
     "name": "stdout",
     "output_type": "stream",
     "text": [
      "[[ 6.31384706e+01 -3.89528235e+01  2.04890569e+02  2.44303482e+03\n",
      "   1.27294118e-01  2.84862745e-01  1.37812157e+01  1.43783922e+01\n",
      "   1.67496863e+01]\n",
      " [ 5.98507388e+01 -2.32913193e+01  2.05236214e+02  2.35004528e+03\n",
      "   1.82005277e-01  2.86622691e-01  1.47230607e+01  1.46850132e+01\n",
      "   1.73971768e+01]\n",
      " [ 4.07312698e+01 -5.81891534e+01  1.99387169e+02  2.25508217e+03\n",
      "   2.37407407e-01  2.78412698e-01  2.97294180e+01  3.30736508e+01\n",
      "   4.81234392e+01]]\n"
     ]
    },
    {
     "data": {
      "image/png": "[encoded data removed]",
      "text/plain": [
       "<Figure size 432x288 with 1 Axes>"
      ]
     },
     "metadata": {
      "needs_background": "light"
     },
     "output_type": "display_data"
    }
   ],
   "source": [
    "inputfeatures=['GR', 'SP', 'CALX', 'RHOB', 'DPSS', 'NPSS', 'ILD', 'ILM', 'SFL']\n",
    "my_cent=km_um.cluster_centers_\n",
    "print(my_cent)\n",
    "\n",
    "for i in u_lbl:\n",
    "    plt.scatter(X.iloc[c_labels==i,2],X.iloc[c_labels==i,3], label=i)\n",
    "\n",
    "plt.scatter(my_cent[:,2],my_cent[:,3],s=80, color=\"r\")\n",
    "plt.title(\"CALX vs RHOB\")\n",
    "plt.legend()\n",
    "plt.show()"
   ]
  },
  {
   "cell_type": "code",
   "execution_count": 29,
   "id": "noted-spouse",
   "metadata": {},
   "outputs": [
    {
     "name": "stdout",
     "output_type": "stream",
     "text": [
      "[[ 6.31384706e+01 -3.89528235e+01  2.04890569e+02  2.44303482e+03\n",
      "   1.27294118e-01  2.84862745e-01  1.37812157e+01  1.43783922e+01\n",
      "   1.67496863e+01]\n",
      " [ 5.98507388e+01 -2.32913193e+01  2.05236214e+02  2.35004528e+03\n",
      "   1.82005277e-01  2.86622691e-01  1.47230607e+01  1.46850132e+01\n",
      "   1.73971768e+01]\n",
      " [ 4.07312698e+01 -5.81891534e+01  1.99387169e+02  2.25508217e+03\n",
      "   2.37407407e-01  2.78412698e-01  2.97294180e+01  3.30736508e+01\n",
      "   4.81234392e+01]]\n"
     ]
    },
    {
     "data": {
      "image/png": "[encoded data removed]",
      "text/plain": [
       "<Figure size 432x288 with 1 Axes>"
      ]
     },
     "metadata": {
      "needs_background": "light"
     },
     "output_type": "display_data"
    }
   ],
   "source": [
    "inputfeatures=['GR', 'SP', 'CALX', 'RHOB', 'DPSS', 'NPSS', 'ILD', 'ILM', 'SFL']\n",
    "\n",
    "my_cent=km_um.cluster_centers_\n",
    "print(my_cent)\n",
    "\n",
    "for i in u_lbl:\n",
    "    plt.scatter(X.iloc[c_labels==i,0],X.iloc[c_labels==i,3], label=i)\n",
    "\n",
    "plt.scatter(my_cent[:,4],my_cent[:,5],s=80, color=\"r\")\n",
    "plt.title(\"DPSS vs NPSS\")\n",
    "plt.legend()\n",
    "plt.show()"
   ]
  },
  {
   "cell_type": "code",
   "execution_count": 30,
   "id": "racial-diamond",
   "metadata": {},
   "outputs": [
    {
     "name": "stdout",
     "output_type": "stream",
     "text": [
      "[[ 6.31384706e+01 -3.89528235e+01  2.04890569e+02  2.44303482e+03\n",
      "   1.27294118e-01  2.84862745e-01  1.37812157e+01  1.43783922e+01\n",
      "   1.67496863e+01]\n",
      " [ 5.98507388e+01 -2.32913193e+01  2.05236214e+02  2.35004528e+03\n",
      "   1.82005277e-01  2.86622691e-01  1.47230607e+01  1.46850132e+01\n",
      "   1.73971768e+01]\n",
      " [ 4.07312698e+01 -5.81891534e+01  1.99387169e+02  2.25508217e+03\n",
      "   2.37407407e-01  2.78412698e-01  2.97294180e+01  3.30736508e+01\n",
      "   4.81234392e+01]]\n"
     ]
    },
    {
     "data": {
      "image/png": "[encoded data removed]",
      "text/plain": [
       "<Figure size 432x288 with 1 Axes>"
      ]
     },
     "metadata": {
      "needs_background": "light"
     },
     "output_type": "display_data"
    }
   ],
   "source": [
    "inputfeatures=['GR', 'SP', 'CALX', 'RHOB', 'DPSS', 'NPSS', 'ILD', 'ILM', 'SFL']\n",
    "my_cent=km_um.cluster_centers_\n",
    "print(my_cent)\n",
    "\n",
    "for i in u_lbl:\n",
    "    plt.scatter(X.iloc[c_labels==i,0],X.iloc[c_labels==i,3], label=i)\n",
    "\n",
    "plt.scatter(my_cent[:,6],my_cent[:,7],s=80, color=\"r\")\n",
    "plt.title(\"ILD vs ILM\")\n",
    "plt.legend()\n",
    "plt.show()"
   ]
  },
  {
   "cell_type": "code",
   "execution_count": null,
   "id": "orange-university",
   "metadata": {},
   "outputs": [],
   "source": []
  }
 ],
 "metadata": {
  "kernelspec": {
   "display_name": "Python 3",
   "language": "python",
   "name": "python3"
  },
  "language_info": {
   "codemirror_mode": {
    "name": "ipython",
    "version": 3
   },
   "file_extension": ".py",
   "mimetype": "text/x-python",
   "name": "python",
   "nbconvert_exporter": "python",
   "pygments_lexer": "ipython3",
   "version": "3.8.5"
  }
 },
 "nbformat": 4,
 "nbformat_minor": 5
}
